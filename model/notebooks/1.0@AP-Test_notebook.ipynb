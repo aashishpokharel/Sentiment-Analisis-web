{
 "cells": [
  {
   "cell_type": "code",
   "execution_count": 2,
   "metadata": {},
   "outputs": [
    {
     "name": "stdout",
     "output_type": "stream",
     "text": [
      "['Well', 'this', 'is', 'good']\n"
     ]
    }
   ],
   "source": [
    "word = \"Well this is good\".split()\n",
    "print(word)"
   ]
  },
  {
   "cell_type": "code",
   "execution_count": 3,
   "metadata": {},
   "outputs": [],
   "source": [
    "data = \"He;llos skks that's god\""
   ]
  },
  {
   "cell_type": "code",
   "execution_count": 2,
   "metadata": {},
   "outputs": [
    {
     "data": {
      "text/plain": [
       "\"He;llos skks that's god\""
      ]
     },
     "execution_count": 2,
     "metadata": {},
     "output_type": "execute_result"
    }
   ],
   "source": [
    "data"
   ]
  },
  {
   "cell_type": "code",
   "execution_count": 6,
   "metadata": {},
   "outputs": [],
   "source": [
    "import re\n",
    "words = re.sub(r'^\\w+',' ', data)"
   ]
  },
  {
   "cell_type": "code",
   "execution_count": 7,
   "metadata": {},
   "outputs": [
    {
     "data": {
      "text/plain": [
       "\" ;llos skks that's god\""
      ]
     },
     "execution_count": 7,
     "metadata": {},
     "output_type": "execute_result"
    }
   ],
   "source": [
    "words"
   ]
  },
  {
   "cell_type": "code",
   "execution_count": 9,
   "metadata": {},
   "outputs": [],
   "source": [
    "import string"
   ]
  },
  {
   "cell_type": "code",
   "execution_count": 10,
   "metadata": {},
   "outputs": [],
   "source": [
    "s = data.translate(str.maketrans('', '', string.punctuation))"
   ]
  },
  {
   "cell_type": "code",
   "execution_count": 11,
   "metadata": {},
   "outputs": [
    {
     "data": {
      "text/plain": [
       "'Hellos skks thats god'"
      ]
     },
     "execution_count": 11,
     "metadata": {},
     "output_type": "execute_result"
    }
   ],
   "source": [
    "s"
   ]
  },
  {
   "cell_type": "code",
   "execution_count": 18,
   "metadata": {},
   "outputs": [
    {
     "ename": "NameError",
     "evalue": "name 'lemmatizer' is not defined",
     "output_type": "error",
     "traceback": [
      "\u001b[0;31m---------------------------------------------------------------------------\u001b[0m",
      "\u001b[0;31mNameError\u001b[0m                                 Traceback (most recent call last)",
      "\u001b[1;32m/media/aashish/Aashish/Projects/Sentiment-Analysis/notebooks/1.0@AP-Test_notebook.ipynb Cell 9'\u001b[0m in \u001b[0;36m<cell line: 5>\u001b[0;34m()\u001b[0m\n\u001b[1;32m      <a href='vscode-notebook-cell:/media/aashish/Aashish/Projects/Sentiment-Analysis/notebooks/1.0%40AP-Test_notebook.ipynb#ch0000009?line=2'>3</a>\u001b[0m     \u001b[39mreturn\u001b[39;00m s\n\u001b[1;32m      <a href='vscode-notebook-cell:/media/aashish/Aashish/Projects/Sentiment-Analysis/notebooks/1.0%40AP-Test_notebook.ipynb#ch0000009?line=3'>4</a>\u001b[0m dataset \u001b[39m=\u001b[39m \u001b[39m'\u001b[39m\u001b[39mData feet\u001b[39m\u001b[39m'\u001b[39m\n\u001b[0;32m----> <a href='vscode-notebook-cell:/media/aashish/Aashish/Projects/Sentiment-Analysis/notebooks/1.0%40AP-Test_notebook.ipynb#ch0000009?line=4'>5</a>\u001b[0m dataset \u001b[39m=\u001b[39m lemmatize(dataset)\n",
      "\u001b[1;32m/media/aashish/Aashish/Projects/Sentiment-Analysis/notebooks/1.0@AP-Test_notebook.ipynb Cell 9'\u001b[0m in \u001b[0;36mlemmatize\u001b[0;34m(s)\u001b[0m\n\u001b[1;32m      <a href='vscode-notebook-cell:/media/aashish/Aashish/Projects/Sentiment-Analysis/notebooks/1.0%40AP-Test_notebook.ipynb#ch0000009?line=0'>1</a>\u001b[0m \u001b[39mdef\u001b[39;00m \u001b[39mlemmatize\u001b[39m(s):\n\u001b[0;32m----> <a href='vscode-notebook-cell:/media/aashish/Aashish/Projects/Sentiment-Analysis/notebooks/1.0%40AP-Test_notebook.ipynb#ch0000009?line=1'>2</a>\u001b[0m     s \u001b[39m=\u001b[39m [lemmatizer\u001b[39m.\u001b[39mlemmatize(word) \u001b[39mfor\u001b[39;00m word \u001b[39min\u001b[39;00m s]\n\u001b[1;32m      <a href='vscode-notebook-cell:/media/aashish/Aashish/Projects/Sentiment-Analysis/notebooks/1.0%40AP-Test_notebook.ipynb#ch0000009?line=2'>3</a>\u001b[0m     \u001b[39mreturn\u001b[39;00m s\n",
      "\u001b[1;32m/media/aashish/Aashish/Projects/Sentiment-Analysis/notebooks/1.0@AP-Test_notebook.ipynb Cell 9'\u001b[0m in \u001b[0;36m<listcomp>\u001b[0;34m(.0)\u001b[0m\n\u001b[1;32m      <a href='vscode-notebook-cell:/media/aashish/Aashish/Projects/Sentiment-Analysis/notebooks/1.0%40AP-Test_notebook.ipynb#ch0000009?line=0'>1</a>\u001b[0m \u001b[39mdef\u001b[39;00m \u001b[39mlemmatize\u001b[39m(s):\n\u001b[0;32m----> <a href='vscode-notebook-cell:/media/aashish/Aashish/Projects/Sentiment-Analysis/notebooks/1.0%40AP-Test_notebook.ipynb#ch0000009?line=1'>2</a>\u001b[0m     s \u001b[39m=\u001b[39m [lemmatizer\u001b[39m.\u001b[39mlemmatize(word) \u001b[39mfor\u001b[39;00m word \u001b[39min\u001b[39;00m s]\n\u001b[1;32m      <a href='vscode-notebook-cell:/media/aashish/Aashish/Projects/Sentiment-Analysis/notebooks/1.0%40AP-Test_notebook.ipynb#ch0000009?line=2'>3</a>\u001b[0m     \u001b[39mreturn\u001b[39;00m s\n",
      "\u001b[0;31mNameError\u001b[0m: name 'lemmatizer' is not defined"
     ]
    }
   ],
   "source": [
    "# def lemmatize(s):\n",
    "#     s = [lemmatizer.lemmatize(word) for word in s]\n",
    "#     return s\n",
    "# dataset = 'Data feet'\n",
    "# dataset = lemmatize(dataset)"
   ]
  },
  {
   "cell_type": "code",
   "execution_count": 9,
   "metadata": {},
   "outputs": [],
   "source": [
    "val = ['I', 'am', 'a', 'student']\n",
    "data = ''.join(val)"
   ]
  },
  {
   "cell_type": "code",
   "execution_count": 10,
   "metadata": {},
   "outputs": [
    {
     "data": {
      "text/plain": [
       "'Iamastudent'"
      ]
     },
     "execution_count": 10,
     "metadata": {},
     "output_type": "execute_result"
    }
   ],
   "source": [
    "data"
   ]
  }
 ],
 "metadata": {
  "kernelspec": {
   "display_name": "Python 3.9.12 ('base')",
   "language": "python",
   "name": "python3"
  },
  "language_info": {
   "codemirror_mode": {
    "name": "ipython",
    "version": 3
   },
   "file_extension": ".py",
   "mimetype": "text/x-python",
   "name": "python",
   "nbconvert_exporter": "python",
   "pygments_lexer": "ipython3",
   "version": "3.9.12"
  },
  "orig_nbformat": 4,
  "vscode": {
   "interpreter": {
    "hash": "057f079fc3d051b446532bd70a4afd7f1511df77c1a1aec452212a8ba7c53c9f"
   }
  }
 },
 "nbformat": 4,
 "nbformat_minor": 2
}
