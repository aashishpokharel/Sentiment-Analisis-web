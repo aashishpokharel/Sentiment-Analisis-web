{
 "cells": [
  {
   "cell_type": "markdown",
   "metadata": {},
   "source": [
    "# Data Preprocessing"
   ]
  },
  {
   "cell_type": "code",
   "execution_count": 7,
   "metadata": {},
   "outputs": [],
   "source": [
    "import numpy as np\n",
    "import pandas as pd\n",
    "import matplotlib.pyplot as plt\n",
    "import seaborn as sns\n",
    "import pickle\n",
    "from sklearn.metrics import ConfusionMatrixDisplay"
   ]
  },
  {
   "cell_type": "code",
   "execution_count": 8,
   "metadata": {},
   "outputs": [],
   "source": [
    "import sys\n",
    "import string\n",
    "import re\n",
    "sys.path.append('../')"
   ]
  },
  {
   "cell_type": "code",
   "execution_count": 9,
   "metadata": {},
   "outputs": [],
   "source": [
    "from nltk.corpus import stopwords\n",
    "from nltk.stem import WordNetLemmatizer, PorterStemmer\n",
    "import nltk\n",
    "# nltk.download('stopwords')\n",
    "# nltk.download('wordnet')\n",
    "# nltk.download('omw-1.4')"
   ]
  },
  {
   "cell_type": "code",
   "execution_count": 4,
   "metadata": {},
   "outputs": [],
   "source": [
    "df = pd.read_csv('../data/external/sentiment_140.csv', names=['polarity', 'id', 'date', 'query', 'user', 'text'],encoding= 'latin-1')"
   ]
  },
  {
   "cell_type": "code",
   "execution_count": 5,
   "metadata": {},
   "outputs": [],
   "source": [
    "df2 = df.copy()"
   ]
  },
  {
   "cell_type": "code",
   "execution_count": 6,
   "metadata": {},
   "outputs": [],
   "source": [
    "columns = list(df.columns)"
   ]
  },
  {
   "cell_type": "markdown",
   "metadata": {},
   "source": [
    "Remove HTML Tags, URL(including image urls), Mentions and Hashtags"
   ]
  },
  {
   "cell_type": "code",
   "execution_count": 10,
   "metadata": {},
   "outputs": [],
   "source": [
    "def to_lower(df, columns = ['text']):\n",
    "    for col in columns:\n",
    "        df[col] = df[col].str.lower()\n",
    "    return df\n",
    "# pickle.dump(xgb, open('../models/74-xgb.pkl', 'wb'))"
   ]
  },
  {
   "cell_type": "code",
   "execution_count": 11,
   "metadata": {},
   "outputs": [],
   "source": [
    "def replace_emojis(df, columns= ['text']):\n",
    "    emojis = {':)': 'smile', ':-)': 'smile', ';d': 'wink', ':-E': 'vampire', ':(': 'sad', \n",
    "          ':-(': 'sad', ':-<': 'sad', ':P': 'raspberry', ':O': 'surprised',\n",
    "          ':-@': 'shocked', ':@': 'shocked',':-$': 'confused', ':\\\\': 'annoyed', \n",
    "          ':#': 'mute', ':X': 'mute', ':^)': 'smile', ':-&': 'confused', '$_$': 'greedy',\n",
    "          '@@': 'eyeroll', ':-!': 'confused', ':-D': 'smile', ':-0': 'yell', 'O.o': 'confused',\n",
    "          '<(-_-)>': 'robot', 'd[-_-]b': 'dj', \":'-)\": 'sadsmile', ';)': 'wink', \n",
    "          ';-)': 'wink', 'O:-)': 'angel','O*-)': 'angel','(:-D': 'gossip', '=^.^=': 'cat'}\n",
    "    for col in columns:\n",
    "        for emoji in emojis.keys():\n",
    "                df['text'] = df['text'].replace(emoji, \"EMOJI\" + emojis[emoji])\n",
    "    return df"
   ]
  },
  {
   "cell_type": "code",
   "execution_count": 12,
   "metadata": {},
   "outputs": [],
   "source": [
    "def filter_html_tags(df, columns = ['text']):\n",
    "    for col in columns:\n",
    "        df[col] = df[col].apply(lambda x: re.split('<.*?>','' ,str(x)))\n",
    "    return df"
   ]
  },
  {
   "cell_type": "code",
   "execution_count": 13,
   "metadata": {},
   "outputs": [],
   "source": [
    "def filter_url(df, columns = ['text']):\n",
    "    for col in columns:\n",
    "        df[col] = df[col].apply(lambda x: re.sub(r'https?://\\S+|www\\.\\S+| http?://\\S+','', str(x)))\n",
    "    return df"
   ]
  },
  {
   "cell_type": "code",
   "execution_count": 14,
   "metadata": {},
   "outputs": [],
   "source": [
    "def filter_mentions_hashtags(df, columns = ['text']):\n",
    "    for col in columns:\n",
    "        df[col] = df[col].apply(lambda x: re.sub(r'\\@\\S+|\\#', '', str(x)))\n",
    "    return df"
   ]
  },
  {
   "cell_type": "code",
   "execution_count": 15,
   "metadata": {},
   "outputs": [],
   "source": [
    "def lemmatization(df, columns = ['text']):\n",
    "    lemmatizer = WordNetLemmatizer()\n",
    "    for col in columns:\n",
    "        df[col] = df[col].apply(lambda x: [lemmatizer.lemmatize(str(val)) for val in x])\n",
    "    return df\n"
   ]
  },
  {
   "cell_type": "code",
   "execution_count": 16,
   "metadata": {},
   "outputs": [],
   "source": [
    "def stemming(df, columns = ['text']):\n",
    "    pstemmer = PorterStemmer()\n",
    "    for col in columns:\n",
    "        # df[col] = df[col].apply(lambda x: \" \".join(nltk.PorterStemmer().stem(str(text)) for text in x.split()))\n",
    "        df[col] = df[col].apply(lambda word_list: [pstemmer.stem(x) for x in word_list])\n",
    "    return df"
   ]
  },
  {
   "cell_type": "code",
   "execution_count": 17,
   "metadata": {},
   "outputs": [],
   "source": [
    "def filter_stopwords(df, columns = ['text']):\n",
    "    stop_words = set(stopwords.words('english'))\n",
    "    for col in columns:\n",
    "        df[col] = df[col].apply(lambda x: ' '.join(x for x in str(x).split() if x not in stop_words))\n",
    "    return df"
   ]
  },
  {
   "cell_type": "code",
   "execution_count": 18,
   "metadata": {},
   "outputs": [],
   "source": [
    "def remove_punctuation(df, columns = ['text']):\n",
    "    for col in columns:\n",
    "        df[col] = df[col].str.translate(str.maketrans('', '', string.punctuation))\n",
    "    return df\n"
   ]
  },
  {
   "cell_type": "code",
   "execution_count": 19,
   "metadata": {},
   "outputs": [],
   "source": [
    "from nltk.tokenize import word_tokenize, TweetTokenizer\n",
    "def make_tokens(df, columns = ['text']):\n",
    "    tt = TweetTokenizer()\n",
    "    for col in columns:\n",
    "        df[col] = df[col].apply(tt.tokenize)\n",
    "    return df"
   ]
  },
  {
   "cell_type": "code",
   "execution_count": 20,
   "metadata": {},
   "outputs": [],
   "source": [
    "def preprocess(df, columns = ['text']):\n",
    "    df = to_lower(df)\n",
    "    # df = \n",
    "    df = replace_emojis(df, columns)\n",
    "    df = filter_url(df, columns= columns)\n",
    "    df = filter_mentions_hashtags(df, columns= columns)\n",
    "    df = remove_punctuation(df, columns= columns)\n",
    "    df = filter_stopwords(df, columns= columns)\n",
    "    print(\"Tokenization\")\n",
    "    df = make_tokens(df, columns = columns)\n",
    "    print(\"stemming\")\n",
    "    df = stemming(df, columns= columns)\n",
    "    print(\"lemmatize\")\n",
    "    df = lemmatization(df,columns= columns)\n",
    "\n",
    "    return df"
   ]
  },
  {
   "cell_type": "code",
   "execution_count": 21,
   "metadata": {},
   "outputs": [
    {
     "name": "stdout",
     "output_type": "stream",
     "text": [
      "Tokenization\n",
      "stemming\n"
     ]
    },
    {
     "ename": "KeyboardInterrupt",
     "evalue": "",
     "output_type": "error",
     "traceback": [
      "\u001b[0;31m---------------------------------------------------------------------------\u001b[0m",
      "\u001b[0;31mKeyboardInterrupt\u001b[0m                         Traceback (most recent call last)",
      "\u001b[1;32m/media/aashish/Aashish/Projects/Sentiment-Analysis/notebooks/1.0@AP-Data-Preprocessing.ipynb Cell 20'\u001b[0m in \u001b[0;36m<cell line: 2>\u001b[0;34m()\u001b[0m\n\u001b[1;32m      <a href='vscode-notebook-cell:/media/aashish/Aashish/Projects/Sentiment-Analysis/notebooks/1.0%40AP-Data-Preprocessing.ipynb#ch0000019?line=0'>1</a>\u001b[0m df3 \u001b[39m=\u001b[39m df\u001b[39m.\u001b[39mcopy()\n\u001b[0;32m----> <a href='vscode-notebook-cell:/media/aashish/Aashish/Projects/Sentiment-Analysis/notebooks/1.0%40AP-Data-Preprocessing.ipynb#ch0000019?line=1'>2</a>\u001b[0m df \u001b[39m=\u001b[39m preprocess(df)\n",
      "\u001b[1;32m/media/aashish/Aashish/Projects/Sentiment-Analysis/notebooks/1.0@AP-Data-Preprocessing.ipynb Cell 19'\u001b[0m in \u001b[0;36mpreprocess\u001b[0;34m(df, columns)\u001b[0m\n\u001b[1;32m     <a href='vscode-notebook-cell:/media/aashish/Aashish/Projects/Sentiment-Analysis/notebooks/1.0%40AP-Data-Preprocessing.ipynb#ch0000018?line=9'>10</a>\u001b[0m df \u001b[39m=\u001b[39m make_tokens(df, columns \u001b[39m=\u001b[39m columns)\n\u001b[1;32m     <a href='vscode-notebook-cell:/media/aashish/Aashish/Projects/Sentiment-Analysis/notebooks/1.0%40AP-Data-Preprocessing.ipynb#ch0000018?line=10'>11</a>\u001b[0m \u001b[39mprint\u001b[39m(\u001b[39m\"\u001b[39m\u001b[39mstemming\u001b[39m\u001b[39m\"\u001b[39m)\n\u001b[0;32m---> <a href='vscode-notebook-cell:/media/aashish/Aashish/Projects/Sentiment-Analysis/notebooks/1.0%40AP-Data-Preprocessing.ipynb#ch0000018?line=11'>12</a>\u001b[0m df \u001b[39m=\u001b[39m stemming(df, columns\u001b[39m=\u001b[39;49m columns)\n\u001b[1;32m     <a href='vscode-notebook-cell:/media/aashish/Aashish/Projects/Sentiment-Analysis/notebooks/1.0%40AP-Data-Preprocessing.ipynb#ch0000018?line=12'>13</a>\u001b[0m \u001b[39mprint\u001b[39m(\u001b[39m\"\u001b[39m\u001b[39mlemmatize\u001b[39m\u001b[39m\"\u001b[39m)\n\u001b[1;32m     <a href='vscode-notebook-cell:/media/aashish/Aashish/Projects/Sentiment-Analysis/notebooks/1.0%40AP-Data-Preprocessing.ipynb#ch0000018?line=13'>14</a>\u001b[0m \u001b[39m# df = lemmatization(df,columns= columns)\u001b[39;00m\n",
      "\u001b[1;32m/media/aashish/Aashish/Projects/Sentiment-Analysis/notebooks/1.0@AP-Data-Preprocessing.ipynb Cell 15'\u001b[0m in \u001b[0;36mstemming\u001b[0;34m(df, columns)\u001b[0m\n\u001b[1;32m      <a href='vscode-notebook-cell:/media/aashish/Aashish/Projects/Sentiment-Analysis/notebooks/1.0%40AP-Data-Preprocessing.ipynb#ch0000014?line=1'>2</a>\u001b[0m pstemmer \u001b[39m=\u001b[39m PorterStemmer()\n\u001b[1;32m      <a href='vscode-notebook-cell:/media/aashish/Aashish/Projects/Sentiment-Analysis/notebooks/1.0%40AP-Data-Preprocessing.ipynb#ch0000014?line=2'>3</a>\u001b[0m \u001b[39mfor\u001b[39;00m col \u001b[39min\u001b[39;00m columns:\n\u001b[1;32m      <a href='vscode-notebook-cell:/media/aashish/Aashish/Projects/Sentiment-Analysis/notebooks/1.0%40AP-Data-Preprocessing.ipynb#ch0000014?line=3'>4</a>\u001b[0m     \u001b[39m# df[col] = df[col].apply(lambda x: \" \".join(nltk.PorterStemmer().stem(str(text)) for text in x.split()))\u001b[39;00m\n\u001b[0;32m----> <a href='vscode-notebook-cell:/media/aashish/Aashish/Projects/Sentiment-Analysis/notebooks/1.0%40AP-Data-Preprocessing.ipynb#ch0000014?line=4'>5</a>\u001b[0m     df[col] \u001b[39m=\u001b[39m df[col]\u001b[39m.\u001b[39;49mapply(\u001b[39mlambda\u001b[39;49;00m word_list: [pstemmer\u001b[39m.\u001b[39;49mstem(x) \u001b[39mfor\u001b[39;49;00m x \u001b[39min\u001b[39;49;00m word_list])\n\u001b[1;32m      <a href='vscode-notebook-cell:/media/aashish/Aashish/Projects/Sentiment-Analysis/notebooks/1.0%40AP-Data-Preprocessing.ipynb#ch0000014?line=5'>6</a>\u001b[0m \u001b[39mreturn\u001b[39;00m df\n",
      "File \u001b[0;32m~/anaconda3/lib/python3.9/site-packages/pandas/core/series.py:4433\u001b[0m, in \u001b[0;36mSeries.apply\u001b[0;34m(self, func, convert_dtype, args, **kwargs)\u001b[0m\n\u001b[1;32m   4323\u001b[0m \u001b[39mdef\u001b[39;00m \u001b[39mapply\u001b[39m(\n\u001b[1;32m   4324\u001b[0m     \u001b[39mself\u001b[39m,\n\u001b[1;32m   4325\u001b[0m     func: AggFuncType,\n\u001b[0;32m   (...)\u001b[0m\n\u001b[1;32m   4328\u001b[0m     \u001b[39m*\u001b[39m\u001b[39m*\u001b[39mkwargs,\n\u001b[1;32m   4329\u001b[0m ) \u001b[39m-\u001b[39m\u001b[39m>\u001b[39m DataFrame \u001b[39m|\u001b[39m Series:\n\u001b[1;32m   4330\u001b[0m     \u001b[39m\"\"\"\u001b[39;00m\n\u001b[1;32m   4331\u001b[0m \u001b[39m    Invoke function on values of Series.\u001b[39;00m\n\u001b[1;32m   4332\u001b[0m \n\u001b[0;32m   (...)\u001b[0m\n\u001b[1;32m   4431\u001b[0m \u001b[39m    dtype: float64\u001b[39;00m\n\u001b[1;32m   4432\u001b[0m \u001b[39m    \"\"\"\u001b[39;00m\n\u001b[0;32m-> 4433\u001b[0m     \u001b[39mreturn\u001b[39;00m SeriesApply(\u001b[39mself\u001b[39;49m, func, convert_dtype, args, kwargs)\u001b[39m.\u001b[39;49mapply()\n",
      "File \u001b[0;32m~/anaconda3/lib/python3.9/site-packages/pandas/core/apply.py:1082\u001b[0m, in \u001b[0;36mSeriesApply.apply\u001b[0;34m(self)\u001b[0m\n\u001b[1;32m   1078\u001b[0m \u001b[39mif\u001b[39;00m \u001b[39misinstance\u001b[39m(\u001b[39mself\u001b[39m\u001b[39m.\u001b[39mf, \u001b[39mstr\u001b[39m):\n\u001b[1;32m   1079\u001b[0m     \u001b[39m# if we are a string, try to dispatch\u001b[39;00m\n\u001b[1;32m   1080\u001b[0m     \u001b[39mreturn\u001b[39;00m \u001b[39mself\u001b[39m\u001b[39m.\u001b[39mapply_str()\n\u001b[0;32m-> 1082\u001b[0m \u001b[39mreturn\u001b[39;00m \u001b[39mself\u001b[39;49m\u001b[39m.\u001b[39;49mapply_standard()\n",
      "File \u001b[0;32m~/anaconda3/lib/python3.9/site-packages/pandas/core/apply.py:1137\u001b[0m, in \u001b[0;36mSeriesApply.apply_standard\u001b[0;34m(self)\u001b[0m\n\u001b[1;32m   1131\u001b[0m         values \u001b[39m=\u001b[39m obj\u001b[39m.\u001b[39mastype(\u001b[39mobject\u001b[39m)\u001b[39m.\u001b[39m_values\n\u001b[1;32m   1132\u001b[0m         \u001b[39m# error: Argument 2 to \"map_infer\" has incompatible type\u001b[39;00m\n\u001b[1;32m   1133\u001b[0m         \u001b[39m# \"Union[Callable[..., Any], str, List[Union[Callable[..., Any], str]],\u001b[39;00m\n\u001b[1;32m   1134\u001b[0m         \u001b[39m# Dict[Hashable, Union[Union[Callable[..., Any], str],\u001b[39;00m\n\u001b[1;32m   1135\u001b[0m         \u001b[39m# List[Union[Callable[..., Any], str]]]]]\"; expected\u001b[39;00m\n\u001b[1;32m   1136\u001b[0m         \u001b[39m# \"Callable[[Any], Any]\"\u001b[39;00m\n\u001b[0;32m-> 1137\u001b[0m         mapped \u001b[39m=\u001b[39m lib\u001b[39m.\u001b[39;49mmap_infer(\n\u001b[1;32m   1138\u001b[0m             values,\n\u001b[1;32m   1139\u001b[0m             f,  \u001b[39m# type: ignore[arg-type]\u001b[39;49;00m\n\u001b[1;32m   1140\u001b[0m             convert\u001b[39m=\u001b[39;49m\u001b[39mself\u001b[39;49m\u001b[39m.\u001b[39;49mconvert_dtype,\n\u001b[1;32m   1141\u001b[0m         )\n\u001b[1;32m   1143\u001b[0m \u001b[39mif\u001b[39;00m \u001b[39mlen\u001b[39m(mapped) \u001b[39mand\u001b[39;00m \u001b[39misinstance\u001b[39m(mapped[\u001b[39m0\u001b[39m], ABCSeries):\n\u001b[1;32m   1144\u001b[0m     \u001b[39m# GH#43986 Need to do list(mapped) in order to get treated as nested\u001b[39;00m\n\u001b[1;32m   1145\u001b[0m     \u001b[39m#  See also GH#25959 regarding EA support\u001b[39;00m\n\u001b[1;32m   1146\u001b[0m     \u001b[39mreturn\u001b[39;00m obj\u001b[39m.\u001b[39m_constructor_expanddim(\u001b[39mlist\u001b[39m(mapped), index\u001b[39m=\u001b[39mobj\u001b[39m.\u001b[39mindex)\n",
      "File \u001b[0;32m~/anaconda3/lib/python3.9/site-packages/pandas/_libs/lib.pyx:2870\u001b[0m, in \u001b[0;36mpandas._libs.lib.map_infer\u001b[0;34m()\u001b[0m\n",
      "\u001b[1;32m/media/aashish/Aashish/Projects/Sentiment-Analysis/notebooks/1.0@AP-Data-Preprocessing.ipynb Cell 15'\u001b[0m in \u001b[0;36mstemming.<locals>.<lambda>\u001b[0;34m(word_list)\u001b[0m\n\u001b[1;32m      <a href='vscode-notebook-cell:/media/aashish/Aashish/Projects/Sentiment-Analysis/notebooks/1.0%40AP-Data-Preprocessing.ipynb#ch0000014?line=1'>2</a>\u001b[0m pstemmer \u001b[39m=\u001b[39m PorterStemmer()\n\u001b[1;32m      <a href='vscode-notebook-cell:/media/aashish/Aashish/Projects/Sentiment-Analysis/notebooks/1.0%40AP-Data-Preprocessing.ipynb#ch0000014?line=2'>3</a>\u001b[0m \u001b[39mfor\u001b[39;00m col \u001b[39min\u001b[39;00m columns:\n\u001b[1;32m      <a href='vscode-notebook-cell:/media/aashish/Aashish/Projects/Sentiment-Analysis/notebooks/1.0%40AP-Data-Preprocessing.ipynb#ch0000014?line=3'>4</a>\u001b[0m     \u001b[39m# df[col] = df[col].apply(lambda x: \" \".join(nltk.PorterStemmer().stem(str(text)) for text in x.split()))\u001b[39;00m\n\u001b[0;32m----> <a href='vscode-notebook-cell:/media/aashish/Aashish/Projects/Sentiment-Analysis/notebooks/1.0%40AP-Data-Preprocessing.ipynb#ch0000014?line=4'>5</a>\u001b[0m     df[col] \u001b[39m=\u001b[39m df[col]\u001b[39m.\u001b[39mapply(\u001b[39mlambda\u001b[39;00m word_list: [pstemmer\u001b[39m.\u001b[39mstem(x) \u001b[39mfor\u001b[39;00m x \u001b[39min\u001b[39;00m word_list])\n\u001b[1;32m      <a href='vscode-notebook-cell:/media/aashish/Aashish/Projects/Sentiment-Analysis/notebooks/1.0%40AP-Data-Preprocessing.ipynb#ch0000014?line=5'>6</a>\u001b[0m \u001b[39mreturn\u001b[39;00m df\n",
      "\u001b[1;32m/media/aashish/Aashish/Projects/Sentiment-Analysis/notebooks/1.0@AP-Data-Preprocessing.ipynb Cell 15'\u001b[0m in \u001b[0;36m<listcomp>\u001b[0;34m(.0)\u001b[0m\n\u001b[1;32m      <a href='vscode-notebook-cell:/media/aashish/Aashish/Projects/Sentiment-Analysis/notebooks/1.0%40AP-Data-Preprocessing.ipynb#ch0000014?line=1'>2</a>\u001b[0m pstemmer \u001b[39m=\u001b[39m PorterStemmer()\n\u001b[1;32m      <a href='vscode-notebook-cell:/media/aashish/Aashish/Projects/Sentiment-Analysis/notebooks/1.0%40AP-Data-Preprocessing.ipynb#ch0000014?line=2'>3</a>\u001b[0m \u001b[39mfor\u001b[39;00m col \u001b[39min\u001b[39;00m columns:\n\u001b[1;32m      <a href='vscode-notebook-cell:/media/aashish/Aashish/Projects/Sentiment-Analysis/notebooks/1.0%40AP-Data-Preprocessing.ipynb#ch0000014?line=3'>4</a>\u001b[0m     \u001b[39m# df[col] = df[col].apply(lambda x: \" \".join(nltk.PorterStemmer().stem(str(text)) for text in x.split()))\u001b[39;00m\n\u001b[0;32m----> <a href='vscode-notebook-cell:/media/aashish/Aashish/Projects/Sentiment-Analysis/notebooks/1.0%40AP-Data-Preprocessing.ipynb#ch0000014?line=4'>5</a>\u001b[0m     df[col] \u001b[39m=\u001b[39m df[col]\u001b[39m.\u001b[39mapply(\u001b[39mlambda\u001b[39;00m word_list: [pstemmer\u001b[39m.\u001b[39;49mstem(x) \u001b[39mfor\u001b[39;00m x \u001b[39min\u001b[39;00m word_list])\n\u001b[1;32m      <a href='vscode-notebook-cell:/media/aashish/Aashish/Projects/Sentiment-Analysis/notebooks/1.0%40AP-Data-Preprocessing.ipynb#ch0000014?line=5'>6</a>\u001b[0m \u001b[39mreturn\u001b[39;00m df\n",
      "File \u001b[0;32m~/anaconda3/lib/python3.9/site-packages/nltk/stem/porter.py:674\u001b[0m, in \u001b[0;36mPorterStemmer.stem\u001b[0;34m(self, word, to_lowercase)\u001b[0m\n\u001b[1;32m    672\u001b[0m stem \u001b[39m=\u001b[39m \u001b[39mself\u001b[39m\u001b[39m.\u001b[39m_step2(stem)\n\u001b[1;32m    673\u001b[0m stem \u001b[39m=\u001b[39m \u001b[39mself\u001b[39m\u001b[39m.\u001b[39m_step3(stem)\n\u001b[0;32m--> 674\u001b[0m stem \u001b[39m=\u001b[39m \u001b[39mself\u001b[39;49m\u001b[39m.\u001b[39;49m_step4(stem)\n\u001b[1;32m    675\u001b[0m stem \u001b[39m=\u001b[39m \u001b[39mself\u001b[39m\u001b[39m.\u001b[39m_step5a(stem)\n\u001b[1;32m    676\u001b[0m stem \u001b[39m=\u001b[39m \u001b[39mself\u001b[39m\u001b[39m.\u001b[39m_step5b(stem)\n",
      "File \u001b[0;32m~/anaconda3/lib/python3.9/site-packages/nltk/stem/porter.py:573\u001b[0m, in \u001b[0;36mPorterStemmer._step4\u001b[0;34m(self, word)\u001b[0m\n\u001b[1;32m    544\u001b[0m \u001b[39m\"\"\"Implements Step 4 from \"An algorithm for suffix stripping\"\u001b[39;00m\n\u001b[1;32m    545\u001b[0m \n\u001b[1;32m    546\u001b[0m \u001b[39mStep 4\u001b[39;00m\n\u001b[0;32m   (...)\u001b[0m\n\u001b[1;32m    569\u001b[0m \u001b[39mtidying up.\u001b[39;00m\n\u001b[1;32m    570\u001b[0m \u001b[39m\"\"\"\u001b[39;00m\n\u001b[1;32m    571\u001b[0m measure_gt_1 \u001b[39m=\u001b[39m \u001b[39mlambda\u001b[39;00m stem: \u001b[39mself\u001b[39m\u001b[39m.\u001b[39m_measure(stem) \u001b[39m>\u001b[39m \u001b[39m1\u001b[39m\n\u001b[0;32m--> 573\u001b[0m \u001b[39mreturn\u001b[39;00m \u001b[39mself\u001b[39;49m\u001b[39m.\u001b[39;49m_apply_rule_list(\n\u001b[1;32m    574\u001b[0m     word,\n\u001b[1;32m    575\u001b[0m     [\n\u001b[1;32m    576\u001b[0m         (\u001b[39m\"\u001b[39;49m\u001b[39mal\u001b[39;49m\u001b[39m\"\u001b[39;49m, \u001b[39m\"\u001b[39;49m\u001b[39m\"\u001b[39;49m, measure_gt_1),\n\u001b[1;32m    577\u001b[0m         (\u001b[39m\"\u001b[39;49m\u001b[39mance\u001b[39;49m\u001b[39m\"\u001b[39;49m, \u001b[39m\"\u001b[39;49m\u001b[39m\"\u001b[39;49m, measure_gt_1),\n\u001b[1;32m    578\u001b[0m         (\u001b[39m\"\u001b[39;49m\u001b[39mence\u001b[39;49m\u001b[39m\"\u001b[39;49m, \u001b[39m\"\u001b[39;49m\u001b[39m\"\u001b[39;49m, measure_gt_1),\n\u001b[1;32m    579\u001b[0m         (\u001b[39m\"\u001b[39;49m\u001b[39mer\u001b[39;49m\u001b[39m\"\u001b[39;49m, \u001b[39m\"\u001b[39;49m\u001b[39m\"\u001b[39;49m, measure_gt_1),\n\u001b[1;32m    580\u001b[0m         (\u001b[39m\"\u001b[39;49m\u001b[39mic\u001b[39;49m\u001b[39m\"\u001b[39;49m, \u001b[39m\"\u001b[39;49m\u001b[39m\"\u001b[39;49m, measure_gt_1),\n\u001b[1;32m    581\u001b[0m         (\u001b[39m\"\u001b[39;49m\u001b[39mable\u001b[39;49m\u001b[39m\"\u001b[39;49m, \u001b[39m\"\u001b[39;49m\u001b[39m\"\u001b[39;49m, measure_gt_1),\n\u001b[1;32m    582\u001b[0m         (\u001b[39m\"\u001b[39;49m\u001b[39mible\u001b[39;49m\u001b[39m\"\u001b[39;49m, \u001b[39m\"\u001b[39;49m\u001b[39m\"\u001b[39;49m, measure_gt_1),\n\u001b[1;32m    583\u001b[0m         (\u001b[39m\"\u001b[39;49m\u001b[39mant\u001b[39;49m\u001b[39m\"\u001b[39;49m, \u001b[39m\"\u001b[39;49m\u001b[39m\"\u001b[39;49m, measure_gt_1),\n\u001b[1;32m    584\u001b[0m         (\u001b[39m\"\u001b[39;49m\u001b[39mement\u001b[39;49m\u001b[39m\"\u001b[39;49m, \u001b[39m\"\u001b[39;49m\u001b[39m\"\u001b[39;49m, measure_gt_1),\n\u001b[1;32m    585\u001b[0m         (\u001b[39m\"\u001b[39;49m\u001b[39mment\u001b[39;49m\u001b[39m\"\u001b[39;49m, \u001b[39m\"\u001b[39;49m\u001b[39m\"\u001b[39;49m, measure_gt_1),\n\u001b[1;32m    586\u001b[0m         (\u001b[39m\"\u001b[39;49m\u001b[39ment\u001b[39;49m\u001b[39m\"\u001b[39;49m, \u001b[39m\"\u001b[39;49m\u001b[39m\"\u001b[39;49m, measure_gt_1),\n\u001b[1;32m    587\u001b[0m         \u001b[39m# (m>1 and (*S or *T)) ION ->\u001b[39;49;00m\n\u001b[1;32m    588\u001b[0m         (\n\u001b[1;32m    589\u001b[0m             \u001b[39m\"\u001b[39;49m\u001b[39mion\u001b[39;49m\u001b[39m\"\u001b[39;49m,\n\u001b[1;32m    590\u001b[0m             \u001b[39m\"\u001b[39;49m\u001b[39m\"\u001b[39;49m,\n\u001b[1;32m    591\u001b[0m             \u001b[39mlambda\u001b[39;49;00m stem: \u001b[39mself\u001b[39;49m\u001b[39m.\u001b[39;49m_measure(stem) \u001b[39m>\u001b[39;49m \u001b[39m1\u001b[39;49m \u001b[39mand\u001b[39;49;00m stem[\u001b[39m-\u001b[39;49m\u001b[39m1\u001b[39;49m] \u001b[39min\u001b[39;49;00m (\u001b[39m\"\u001b[39;49m\u001b[39ms\u001b[39;49m\u001b[39m\"\u001b[39;49m, \u001b[39m\"\u001b[39;49m\u001b[39mt\u001b[39;49m\u001b[39m\"\u001b[39;49m),\n\u001b[1;32m    592\u001b[0m         ),\n\u001b[1;32m    593\u001b[0m         (\u001b[39m\"\u001b[39;49m\u001b[39mou\u001b[39;49m\u001b[39m\"\u001b[39;49m, \u001b[39m\"\u001b[39;49m\u001b[39m\"\u001b[39;49m, measure_gt_1),\n\u001b[1;32m    594\u001b[0m         (\u001b[39m\"\u001b[39;49m\u001b[39mism\u001b[39;49m\u001b[39m\"\u001b[39;49m, \u001b[39m\"\u001b[39;49m\u001b[39m\"\u001b[39;49m, measure_gt_1),\n\u001b[1;32m    595\u001b[0m         (\u001b[39m\"\u001b[39;49m\u001b[39mate\u001b[39;49m\u001b[39m\"\u001b[39;49m, \u001b[39m\"\u001b[39;49m\u001b[39m\"\u001b[39;49m, measure_gt_1),\n\u001b[1;32m    596\u001b[0m         (\u001b[39m\"\u001b[39;49m\u001b[39miti\u001b[39;49m\u001b[39m\"\u001b[39;49m, \u001b[39m\"\u001b[39;49m\u001b[39m\"\u001b[39;49m, measure_gt_1),\n\u001b[1;32m    597\u001b[0m         (\u001b[39m\"\u001b[39;49m\u001b[39mous\u001b[39;49m\u001b[39m\"\u001b[39;49m, \u001b[39m\"\u001b[39;49m\u001b[39m\"\u001b[39;49m, measure_gt_1),\n\u001b[1;32m    598\u001b[0m         (\u001b[39m\"\u001b[39;49m\u001b[39mive\u001b[39;49m\u001b[39m\"\u001b[39;49m, \u001b[39m\"\u001b[39;49m\u001b[39m\"\u001b[39;49m, measure_gt_1),\n\u001b[1;32m    599\u001b[0m         (\u001b[39m\"\u001b[39;49m\u001b[39mize\u001b[39;49m\u001b[39m\"\u001b[39;49m, \u001b[39m\"\u001b[39;49m\u001b[39m\"\u001b[39;49m, measure_gt_1),\n\u001b[1;32m    600\u001b[0m     ],\n\u001b[1;32m    601\u001b[0m )\n",
      "File \u001b[0;32m~/anaconda3/lib/python3.9/site-packages/nltk/stem/porter.py:257\u001b[0m, in \u001b[0;36mPorterStemmer._apply_rule_list\u001b[0;34m(self, word, rules)\u001b[0m\n\u001b[1;32m    248\u001b[0m \u001b[39mdef\u001b[39;00m \u001b[39m_apply_rule_list\u001b[39m(\u001b[39mself\u001b[39m, word, rules):\n\u001b[1;32m    249\u001b[0m     \u001b[39m\"\"\"Applies the first applicable suffix-removal rule to the word\u001b[39;00m\n\u001b[1;32m    250\u001b[0m \n\u001b[1;32m    251\u001b[0m \u001b[39m    Takes a word and a list of suffix-removal rules represented as\u001b[39;00m\n\u001b[0;32m   (...)\u001b[0m\n\u001b[1;32m    255\u001b[0m \u001b[39m    or None if the rule is unconditional.\u001b[39;00m\n\u001b[1;32m    256\u001b[0m \u001b[39m    \"\"\"\u001b[39;00m\n\u001b[0;32m--> 257\u001b[0m     \u001b[39mfor\u001b[39;00m rule \u001b[39min\u001b[39;00m rules:\n\u001b[1;32m    258\u001b[0m         suffix, replacement, condition \u001b[39m=\u001b[39m rule\n\u001b[1;32m    259\u001b[0m         \u001b[39mif\u001b[39;00m suffix \u001b[39m==\u001b[39m \u001b[39m\"\u001b[39m\u001b[39m*d\u001b[39m\u001b[39m\"\u001b[39m \u001b[39mand\u001b[39;00m \u001b[39mself\u001b[39m\u001b[39m.\u001b[39m_ends_double_consonant(word):\n",
      "\u001b[0;31mKeyboardInterrupt\u001b[0m: "
     ]
    }
   ],
   "source": [
    "df3 = df.copy()\n",
    "df = preprocess(df)\n",
    "# Processing time : ~14 mins(PC)"
   ]
  },
  {
   "cell_type": "code",
   "execution_count": null,
   "metadata": {},
   "outputs": [
    {
     "data": {
      "text/plain": [
       "0"
      ]
     },
     "execution_count": 19,
     "metadata": {},
     "output_type": "execute_result"
    }
   ],
   "source": [
    "df.text.isna().sum()"
   ]
  },
  {
   "cell_type": "code",
   "execution_count": null,
   "metadata": {},
   "outputs": [
    {
     "ename": "NameError",
     "evalue": "name 'WordCloud' is not defined",
     "output_type": "error",
     "traceback": [
      "\u001b[0;31m---------------------------------------------------------------------------\u001b[0m",
      "\u001b[0;31mNameError\u001b[0m                                 Traceback (most recent call last)",
      "\u001b[1;32m/media/aashish/Aashish/Projects/Sentiment-Analysis/notebooks/1.0@AP-Data-Preprocessing.ipynb Cell 22'\u001b[0m in \u001b[0;36m<cell line: 3>\u001b[0;34m()\u001b[0m\n\u001b[1;32m      <a href='vscode-notebook-cell:/media/aashish/Aashish/Projects/Sentiment-Analysis/notebooks/1.0%40AP-Data-Preprocessing.ipynb#ch0000021?line=0'>1</a>\u001b[0m data_neg \u001b[39m=\u001b[39m df[df[\u001b[39m'\u001b[39m\u001b[39mpolarity\u001b[39m\u001b[39m'\u001b[39m] \u001b[39m==\u001b[39m \u001b[39m0\u001b[39m]\n\u001b[1;32m      <a href='vscode-notebook-cell:/media/aashish/Aashish/Projects/Sentiment-Analysis/notebooks/1.0%40AP-Data-Preprocessing.ipynb#ch0000021?line=1'>2</a>\u001b[0m plt\u001b[39m.\u001b[39mfigure(figsize \u001b[39m=\u001b[39m (\u001b[39m20\u001b[39m,\u001b[39m20\u001b[39m))\n\u001b[0;32m----> <a href='vscode-notebook-cell:/media/aashish/Aashish/Projects/Sentiment-Analysis/notebooks/1.0%40AP-Data-Preprocessing.ipynb#ch0000021?line=2'>3</a>\u001b[0m wc \u001b[39m=\u001b[39m WordCloud(max_words \u001b[39m=\u001b[39m \u001b[39m1000\u001b[39m , width \u001b[39m=\u001b[39m \u001b[39m1600\u001b[39m , height \u001b[39m=\u001b[39m \u001b[39m800\u001b[39m,\n\u001b[1;32m      <a href='vscode-notebook-cell:/media/aashish/Aashish/Projects/Sentiment-Analysis/notebooks/1.0%40AP-Data-Preprocessing.ipynb#ch0000021?line=3'>4</a>\u001b[0m                collocations\u001b[39m=\u001b[39m\u001b[39mFalse\u001b[39;00m)\u001b[39m.\u001b[39mgenerate(\u001b[39m\"\u001b[39m\u001b[39m \u001b[39m\u001b[39m\"\u001b[39m\u001b[39m.\u001b[39mjoin(data_neg))\n\u001b[1;32m      <a href='vscode-notebook-cell:/media/aashish/Aashish/Projects/Sentiment-Analysis/notebooks/1.0%40AP-Data-Preprocessing.ipynb#ch0000021?line=4'>5</a>\u001b[0m plt\u001b[39m.\u001b[39mimshow(wc)\n",
      "\u001b[0;31mNameError\u001b[0m: name 'WordCloud' is not defined"
     ]
    },
    {
     "data": {
      "text/plain": [
       "<Figure size 1440x1440 with 0 Axes>"
      ]
     },
     "metadata": {},
     "output_type": "display_data"
    }
   ],
   "source": [
    "# data_neg = df[df['polarity'] == 0]\n",
    "# plt.figure(figsize = (20,20))\n",
    "# wc = WordCloud(max_words = 1000 , width = 1600 , height = 800,\n",
    "#                collocations=False).generate(\" \".join(data_neg))\n",
    "# plt.imshow(wc)"
   ]
  },
  {
   "cell_type": "markdown",
   "metadata": {},
   "source": [
    "Join the Final outcome"
   ]
  },
  {
   "cell_type": "code",
   "execution_count": null,
   "metadata": {},
   "outputs": [],
   "source": [
    "\n",
    "df['text'] = df['text'].apply(lambda x: ' '.join(x) )"
   ]
  },
  {
   "cell_type": "code",
   "execution_count": null,
   "metadata": {},
   "outputs": [],
   "source": [
    "Final feature selection"
   ]
  },
  {
   "cell_type": "code",
   "execution_count": null,
   "metadata": {},
   "outputs": [
    {
     "data": {
      "text/plain": [
       "0          awww that bummer shoulda got david carr third day\n",
       "1          upset cant updat facebook text might cri resul...\n",
       "2            dive mani time ball manag save 50 rest go bound\n",
       "3                            whole bodi feel itchi like fire\n",
       "4                                      behav im mad cant see\n",
       "                                 ...                        \n",
       "1599995                           woke school best feel ever\n",
       "1599996         thewdbcom cool hear old walt interview â  «\n",
       "1599997                         readi mojo makeov ask detail\n",
       "1599998    happi 38th birthday boo alll time tupac amaru ...\n",
       "1599999                                 happi charitytuesday\n",
       "Name: text, Length: 1600000, dtype: object"
      ]
     },
     "execution_count": 33,
     "metadata": {},
     "output_type": "execute_result"
    }
   ],
   "source": [
    "df['text', 'polarity'].to_csv('../data/processed/selected_features.csv')"
   ]
  },
  {
   "cell_type": "code",
   "execution_count": null,
   "metadata": {},
   "outputs": [],
   "source": [
    "df['text'] = data"
   ]
  },
  {
   "cell_type": "code",
   "execution_count": null,
   "metadata": {},
   "outputs": [],
   "source": [
    "df.to_csv('../data/processed/final.csv')"
   ]
  },
  {
   "cell_type": "code",
   "execution_count": null,
   "metadata": {},
   "outputs": [],
   "source": []
  },
  {
   "cell_type": "code",
   "execution_count": null,
   "metadata": {},
   "outputs": [
    {
     "data": {
      "text/plain": [
       "0    awww that bummer shoulda got david carr third day\n",
       "1    upset cant updat facebook text might cri resul...\n",
       "2      dive mani time ball manag save 50 rest go bound\n",
       "3                      whole bodi feel itchi like fire\n",
       "4                                behav im mad cant see\n",
       "Name: text, dtype: object"
      ]
     },
     "execution_count": 37,
     "metadata": {},
     "output_type": "execute_result"
    }
   ],
   "source": [
    "df['text'].head()"
   ]
  },
  {
   "cell_type": "code",
   "execution_count": null,
   "metadata": {},
   "outputs": [
    {
     "data": {
      "text/plain": [
       "0    @switchfoot http://twitpic.com/2y1zl - Awww, t...\n",
       "1    is upset that he can't update his Facebook by ...\n",
       "2    @Kenichan I dived many times for the ball. Man...\n",
       "3      my whole body feels itchy and like its on fire \n",
       "4    @nationwideclass no, it's not behaving at all....\n",
       "Name: text, dtype: object"
      ]
     },
     "execution_count": 38,
     "metadata": {},
     "output_type": "execute_result"
    }
   ],
   "source": [
    "df2['text'].head()"
   ]
  },
  {
   "cell_type": "code",
   "execution_count": null,
   "metadata": {},
   "outputs": [],
   "source": [
    "X = df['text']\n",
    "y = df['polarity']"
   ]
  },
  {
   "cell_type": "code",
   "execution_count": null,
   "metadata": {},
   "outputs": [],
   "source": [
    "from sklearn.feature_extraction.text import TfidfVectorizer"
   ]
  },
  {
   "cell_type": "code",
   "execution_count": null,
   "metadata": {},
   "outputs": [],
   "source": [
    "# X.toarray()"
   ]
  },
  {
   "cell_type": "code",
   "execution_count": null,
   "metadata": {},
   "outputs": [],
   "source": [
    "from sklearn.model_selection import train_test_split\n",
    "X_train, X_test, y_train, y_test = train_test_split(X, y, test_size=0.3, random_state=1000)"
   ]
  },
  {
   "cell_type": "code",
   "execution_count": null,
   "metadata": {},
   "outputs": [],
   "source": [
    "tf = TfidfVectorizer(ngram_range= (1,2), max_features = 500000)\n",
    "X_train = tf.fit_transform(X_train)\n",
    "X_test = tf.transform(X_test)"
   ]
  },
  {
   "cell_type": "code",
   "execution_count": null,
   "metadata": {},
   "outputs": [],
   "source": [
    "from sklearn.linear_model import LogisticRegression\n",
    "from sklearn.metrics import accuracy_score, confusion_matrix"
   ]
  },
  {
   "cell_type": "code",
   "execution_count": null,
   "metadata": {},
   "outputs": [],
   "source": [
    "lr = LogisticRegression(max_iter = 20000)\n",
    "lr.fit(X_train, y_train)\n",
    "y_pred = lr.predict(X_test)\n",
    "# accuracy is 78%\n"
   ]
  },
  {
   "cell_type": "code",
   "execution_count": null,
   "metadata": {},
   "outputs": [],
   "source": [
    "acc = accuracy_score(y_test, y_pred)\n",
    "conf_matrix = confusion_matrix(y_test, y_pred)"
   ]
  },
  {
   "cell_type": "code",
   "execution_count": null,
   "metadata": {},
   "outputs": [
    {
     "name": "stdout",
     "output_type": "stream",
     "text": [
      "0.7957458333333334\n"
     ]
    },
    {
     "data": {
      "text/plain": [
       "<sklearn.metrics._plot.confusion_matrix.ConfusionMatrixDisplay at 0x7f71c0d567f0>"
      ]
     },
     "execution_count": 67,
     "metadata": {},
     "output_type": "execute_result"
    },
    {
     "data": {
      "image/png": "[encoded data removed]",
      "text/plain": [
       "<Figure size 432x288 with 2 Axes>"
      ]
     },
     "metadata": {
      "needs_background": "light"
     },
     "output_type": "display_data"
    }
   ],
   "source": [
    "print(acc)\n",
    "mat = ConfusionMatrixDisplay(conf_matrix, display_labels=['positive', 'negative'])\n",
    "mat.plot()"
   ]
  },
  {
   "cell_type": "code",
   "execution_count": null,
   "metadata": {},
   "outputs": [],
   "source": [
    "pickle.dump(lr, open('../models/79_57_logreg.pkl', 'wb'))"
   ]
  },
  {
   "cell_type": "code",
   "execution_count": null,
   "metadata": {},
   "outputs": [
    {
     "data": {
      "text/plain": [
       "MultinomialNB()"
      ]
     },
     "execution_count": 52,
     "metadata": {},
     "output_type": "execute_result"
    }
   ],
   "source": [
    "from sklearn.naive_bayes import MultinomialNB\n",
    "mnb = MultinomialNB()\n",
    "mnb.fit(X_train, y_train)"
   ]
  },
  {
   "cell_type": "code",
   "execution_count": null,
   "metadata": {},
   "outputs": [],
   "source": [
    "pickle.dump(mnb, open('../models/79_5-mnb.pkl', 'wb'))"
   ]
  },
  {
   "cell_type": "code",
   "execution_count": null,
   "metadata": {},
   "outputs": [
    {
     "name": "stdout",
     "output_type": "stream",
     "text": [
      "0.7947166666666666\n"
     ]
    },
    {
     "data": {
      "text/plain": [
       "<sklearn.metrics._plot.confusion_matrix.ConfusionMatrixDisplay at 0x7f71cda2ed60>"
      ]
     },
     "execution_count": 53,
     "metadata": {},
     "output_type": "execute_result"
    },
    {
     "data": {
      "image/png": "[encoded data removed]",
      "text/plain": [
       "<Figure size 432x288 with 2 Axes>"
      ]
     },
     "metadata": {
      "needs_background": "light"
     },
     "output_type": "display_data"
    }
   ],
   "source": [
    "y_pred_mnb = mnb.predict(X_test)\n",
    "acc = accuracy_score(y_test, y_pred)\n",
    "print(acc)\n",
    "conf_matrix = confusion_matrix(y_test, y_pred_mnb)\n",
    "mat = ConfusionMatrixDisplay(conf_matrix, display_labels=['positive', 'negative'])\n",
    "mat.plot()"
   ]
  },
  {
   "cell_type": "code",
   "execution_count": null,
   "metadata": {},
   "outputs": [],
   "source": [
    "test_data = pd.DataFrame()"
   ]
  },
  {
   "cell_type": "code",
   "execution_count": null,
   "metadata": {},
   "outputs": [
    {
     "name": "stdout",
     "output_type": "stream",
     "text": [
      "Tokenization\n",
      "stemming\n",
      "lemmatize\n"
     ]
    },
    {
     "data": {
      "text/plain": [
       "<1x500000 sparse matrix of type '<class 'numpy.float64'>'\n",
       "\twith 1 stored elements in Compressed Sparse Row format>"
      ]
     },
     "execution_count": 57,
     "metadata": {},
     "output_type": "execute_result"
    }
   ],
   "source": []
  },
  {
   "cell_type": "code",
   "execution_count": null,
   "metadata": {},
   "outputs": [
    {
     "name": "stdout",
     "output_type": "stream",
     "text": [
      "  (0, 429329)\t0.5066910894027036\n",
      "  (0, 327447)\t0.35237040308593864\n",
      "  (0, 105415)\t0.5349533930362902\n",
      "  (0, 49851)\t0.576995759280703\n",
      "  (1, 486818)\t0.22123839945129523\n",
      "  (1, 459047)\t0.5322505651995852\n",
      "  (1, 458115)\t0.2703462952982007\n",
      "  (1, 445704)\t0.3103657363658035\n",
      "  (1, 422794)\t0.6317800583999936\n",
      "  (1, 422095)\t0.3149648465618066\n",
      "  (2, 486226)\t0.26916117233608294\n",
      "  (2, 486203)\t0.22877005011489907\n",
      "  (2, 434042)\t0.20414320070782566\n",
      "  (2, 364600)\t0.1512232743307579\n",
      "  (2, 224643)\t0.3585501840346487\n",
      "  (2, 216602)\t0.18455098035957393\n",
      "  (2, 206383)\t0.2920255334796125\n",
      "  (2, 205064)\t0.09755732320604811\n",
      "  (2, 194931)\t0.3682424686259192\n",
      "  (2, 194900)\t0.2503403105872331\n",
      "  (2, 162425)\t0.29745574483940324\n",
      "  (2, 161553)\t0.12788032419555664\n",
      "  (2, 150593)\t0.22965211666190627\n",
      "  (2, 108420)\t0.35541215757711303\n",
      "  (2, 108382)\t0.26663829309485576\n",
      "  :\t:\n",
      "  (8, 165657)\t0.32888037265447484\n",
      "  (8, 58626)\t0.480388485448251\n",
      "  (8, 40973)\t0.4563913989044508\n",
      "  (9, 469866)\t0.18483212080689404\n",
      "  (9, 469747)\t0.1477237829363824\n",
      "  (9, 466335)\t0.25244923694282323\n",
      "  (9, 466226)\t0.16464691839935175\n",
      "  (9, 335204)\t0.2795765475152477\n",
      "  (9, 334451)\t0.14378283720159502\n",
      "  (9, 312236)\t0.3509253562354029\n",
      "  (9, 311517)\t0.14938696995719938\n",
      "  (9, 276325)\t0.3095971426605315\n",
      "  (9, 276232)\t0.17330224086055165\n",
      "  (9, 263073)\t0.12243016931547142\n",
      "  (9, 223349)\t0.2507488450528014\n",
      "  (9, 222405)\t0.11650162593073134\n",
      "  (9, 193420)\t0.275365025002472\n",
      "  (9, 192388)\t0.12466710037177138\n",
      "  (9, 154376)\t0.18478398096184526\n",
      "  (9, 153011)\t0.09277596138414024\n",
      "  (9, 146420)\t0.15688214296310252\n",
      "  (9, 102667)\t0.16531832966652907\n",
      "  (9, 102052)\t0.1108393542062176\n",
      "  (9, 3502)\t0.3509253562354029\n",
      "  (9, 3498)\t0.2646822642363194 [4 0 4 4 4 4 4 4 4 0] 1111205    4\n",
      "593517     0\n",
      "1554795    4\n",
      "1442970    4\n",
      "1415413    4\n",
      "1023485    4\n",
      "1585791    4\n",
      "427555     0\n",
      "397225     0\n",
      "663583     0\n",
      "Name: polarity, dtype: int64\n"
     ]
    }
   ],
   "source": [
    "# print(X_test[0:10], lr.predict(X_test[0:10]),y_test[0:10])"
   ]
  },
  {
   "cell_type": "code",
   "execution_count": null,
   "metadata": {},
   "outputs": [],
   "source": [
    "# from xgboost import XGBClassifier"
   ]
  },
  {
   "cell_type": "code",
   "execution_count": null,
   "metadata": {},
   "outputs": [],
   "source": [
    "# xgb = XGBClassifier()\n",
    "# xgb.fit(X_train, y_train)"
   ]
  },
  {
   "cell_type": "code",
   "execution_count": null,
   "metadata": {},
   "outputs": [],
   "source": [
    "# y_pred_xgb = xgb.predict(X_test)\n",
    "# accuracy_xgb = accuracy_score(y_test, y_pred_xgb)"
   ]
  },
  {
   "cell_type": "code",
   "execution_count": null,
   "metadata": {},
   "outputs": [],
   "source": [
    "# accuracy_xgb"
   ]
  },
  {
   "cell_type": "code",
   "execution_count": null,
   "metadata": {},
   "outputs": [],
   "source": []
  },
  {
   "cell_type": "code",
   "execution_count": null,
   "metadata": {},
   "outputs": [],
   "source": [
    "# sys.path.append('../')\n",
    "# pickle.dump(xgb, open('../models/74-xgb.pkl', 'wb'))"
   ]
  }
 ],
 "metadata": {
  "kernelspec": {
   "display_name": "Python 3 (ipykernel)",
   "language": "python",
   "name": "python3"
  },
  "language_info": {
   "codemirror_mode": {
    "name": "ipython",
    "version": 3
   },
   "file_extension": ".py",
   "mimetype": "text/x-python",
   "name": "python",
   "nbconvert_exporter": "python",
   "pygments_lexer": "ipython3",
   "version": "3.10.4"
  },
  "vscode": {
   "interpreter": {
    "hash": "057f079fc3d051b446532bd70a4afd7f1511df77c1a1aec452212a8ba7c53c9f"
   }
  }
 },
 "nbformat": 4,
 "nbformat_minor": 2
}
