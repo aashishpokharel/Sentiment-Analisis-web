{
 "cells": [
  {
   "cell_type": "code",
   "execution_count": 1,
   "metadata": {},
   "outputs": [],
   "source": [
    "from sklearn.feature_extraction.text import TfidfVectorizer\n",
    "import numpy as np\n",
    "import pandas as pd\n",
    "import matplotlib.pyplot as plt\n",
    "import seaborn as sns\n",
    "import pickle\n",
    "from sklearn.metrics import ConfusionMatrixDisplay\n",
    "import sys\n",
    "import string\n",
    "import re\n",
    "sys.path.append('../')\n",
    "import pickle"
   ]
  },
  {
   "cell_type": "code",
   "execution_count": 2,
   "metadata": {},
   "outputs": [],
   "source": [
    "df = pd.read_csv('../data/processed/selected_features_text_final.csv')"
   ]
  },
  {
   "cell_type": "code",
   "execution_count": 3,
   "metadata": {},
   "outputs": [
    {
     "data": {
      "text/plain": [
       "0          awww that bummer shoulda got david carr third day\n",
       "1          upset cant updat facebook text might cri resul...\n",
       "2            dive mani time ball manag save 50 rest go bound\n",
       "3                            whole bodi feel itchi like fire\n",
       "4                                      behav im mad cant see\n",
       "                                 ...                        \n",
       "1599995                           woke school best feel ever\n",
       "1599996         thewdbcom cool hear old walt interview â  «\n",
       "1599997                         readi mojo makeov ask detail\n",
       "1599998    happi 38th birthday boo alll time tupac amaru ...\n",
       "1599999                                 happi charitytuesday\n",
       "Name: text, Length: 1600000, dtype: object"
      ]
     },
     "execution_count": 3,
     "metadata": {},
     "output_type": "execute_result"
    }
   ],
   "source": [
    "df.text\n"
   ]
  },
  {
   "cell_type": "code",
   "execution_count": 7,
   "metadata": {},
   "outputs": [
    {
     "data": {
      "text/plain": [
       "Unnamed: 0       0\n",
       "text          6846\n",
       "sentiment        0\n",
       "dtype: int64"
      ]
     },
     "execution_count": 7,
     "metadata": {},
     "output_type": "execute_result"
    }
   ],
   "source": [
    "df.isna().sum()\n",
    "# df['text'].to_csv('../data/processed/text.csv')"
   ]
  },
  {
   "cell_type": "code",
   "execution_count": 4,
   "metadata": {},
   "outputs": [],
   "source": [
    "df = df.dropna()"
   ]
  },
  {
   "cell_type": "code",
   "execution_count": 5,
   "metadata": {},
   "outputs": [
    {
     "data": {
      "text/plain": [
       "0          awww that bummer shoulda got david carr third day\n",
       "1          upset cant updat facebook text might cri resul...\n",
       "2            dive mani time ball manag save 50 rest go bound\n",
       "3                            whole bodi feel itchi like fire\n",
       "4                                      behav im mad cant see\n",
       "                                 ...                        \n",
       "1599995                           woke school best feel ever\n",
       "1599996         thewdbcom cool hear old walt interview â  «\n",
       "1599997                         readi mojo makeov ask detail\n",
       "1599998    happi 38th birthday boo alll time tupac amaru ...\n",
       "1599999                                 happi charitytuesday\n",
       "Name: text, Length: 1593154, dtype: object"
      ]
     },
     "execution_count": 5,
     "metadata": {},
     "output_type": "execute_result"
    }
   ],
   "source": [
    "df.text"
   ]
  },
  {
   "cell_type": "code",
   "execution_count": 17,
   "metadata": {},
   "outputs": [],
   "source": [
    "# df.text = df.text.apply(lambda x: 'empty' if (type(x) == float or x == np.nan) else x)"
   ]
  },
  {
   "cell_type": "code",
   "execution_count": 62,
   "metadata": {},
   "outputs": [
    {
     "data": {
      "text/plain": [
       "'empty'"
      ]
     },
     "execution_count": 62,
     "metadata": {},
     "output_type": "execute_result"
    }
   ],
   "source": [
    "df.text[208]"
   ]
  },
  {
   "cell_type": "code",
   "execution_count": 6,
   "metadata": {},
   "outputs": [],
   "source": [
    "X = df['text']\n",
    "y = df['sentiment']"
   ]
  },
  {
   "cell_type": "code",
   "execution_count": 7,
   "metadata": {},
   "outputs": [
    {
     "data": {
      "text/plain": [
       "0    0\n",
       "1    0\n",
       "2    0\n",
       "3    0\n",
       "4    0\n",
       "Name: sentiment, dtype: int64"
      ]
     },
     "execution_count": 7,
     "metadata": {},
     "output_type": "execute_result"
    }
   ],
   "source": [
    "y.head(5)"
   ]
  },
  {
   "cell_type": "code",
   "execution_count": 8,
   "metadata": {},
   "outputs": [],
   "source": [
    "from sklearn.model_selection import train_test_split\n",
    "X_train, X_test, y_train, y_test = train_test_split(X, y, test_size=0.3, random_state=100)"
   ]
  },
  {
   "cell_type": "code",
   "execution_count": 10,
   "metadata": {},
   "outputs": [],
   "source": [
    "tf = TfidfVectorizer(ngram_range= (1,2), max_features = 500000)\n",
    "X_train = tf.fit_transform(X_train)\n",
    "X_test = tf.transform(X_test)\n",
    "# Time : ~"
   ]
  },
  {
   "cell_type": "code",
   "execution_count": 9,
   "metadata": {},
   "outputs": [],
   "source": [
    "from sklearn.linear_model import LogisticRegression\n",
    "from sklearn.metrics import accuracy_score, confusion_matrix"
   ]
  },
  {
   "cell_type": "code",
   "execution_count": 17,
   "metadata": {},
   "outputs": [],
   "source": [
    "lr = LogisticRegression(solver = 'saga',penalty = 'elasticnet', max_iter = 500, l1_ratio=0.3)\n",
    "lr.fit(X_train, y_train)\n",
    "y_pred = lr.predict(X_test)"
   ]
  },
  {
   "cell_type": "code",
   "execution_count": 73,
   "metadata": {},
   "outputs": [],
   "source": [
    "acc = accuracy_score(y_test, y_pred)\n",
    "conf_matrix = confusion_matrix(y_test, y_pred)"
   ]
  },
  {
   "cell_type": "code",
   "execution_count": 75,
   "metadata": {},
   "outputs": [
    {
     "name": "stdout",
     "output_type": "stream",
     "text": [
      "0.7958833333333334\n"
     ]
    },
    {
     "data": {
      "text/plain": [
       "<sklearn.metrics._plot.confusion_matrix.ConfusionMatrixDisplay at 0x7f534213a760>"
      ]
     },
     "execution_count": 75,
     "metadata": {},
     "output_type": "execute_result"
    },
    {
     "data": {
      "image/png": "[encoded data removed]",
      "text/plain": [
       "<Figure size 432x288 with 2 Axes>"
      ]
     },
     "metadata": {
      "needs_background": "light"
     },
     "output_type": "display_data"
    }
   ],
   "source": [
    "print(acc)\n",
    "mat = ConfusionMatrixDisplay(conf_matrix, display_labels=['positive', 'negative'])\n",
    "mat.plot()\n",
    "sys.path.append('../')\n",
    "# pickle.dump(xgb, open('../models/74-xgb.pkl', 'wb'))"
   ]
  },
  {
   "cell_type": "code",
   "execution_count": null,
   "metadata": {},
   "outputs": [],
   "source": [
    "# pickle.dump(lr, open('../models/79_57_logreg.pkl', 'wb'))"
   ]
  },
  {
   "cell_type": "code",
   "execution_count": 11,
   "metadata": {},
   "outputs": [
    {
     "data": {
      "text/plain": [
       "MultinomialNB()"
      ]
     },
     "execution_count": 11,
     "metadata": {},
     "output_type": "execute_result"
    }
   ],
   "source": [
    "from sklearn.naive_bayes import MultinomialNB\n",
    "mnb = MultinomialNB()\n",
    "mnb.fit(X_train, y_train)"
   ]
  },
  {
   "cell_type": "code",
   "execution_count": 12,
   "metadata": {},
   "outputs": [],
   "source": [
    "# pickle.dump(mnb, open('../models/79_5-mnb(2).pkl', 'wb'))"
   ]
  },
  {
   "cell_type": "code",
   "execution_count": 13,
   "metadata": {},
   "outputs": [
    {
     "name": "stdout",
     "output_type": "stream",
     "text": [
      "0.7812121427689681\n"
     ]
    },
    {
     "data": {
      "text/plain": [
       "<sklearn.metrics._plot.confusion_matrix.ConfusionMatrixDisplay at 0x7f1832f4fd30>"
      ]
     },
     "execution_count": 13,
     "metadata": {},
     "output_type": "execute_result"
    },
    {
     "data": {
      "image/png": "[encoded data removed]",
      "text/plain": [
       "<Figure size 432x288 with 2 Axes>"
      ]
     },
     "metadata": {
      "needs_background": "light"
     },
     "output_type": "display_data"
    }
   ],
   "source": [
    "y_pred_mnb = mnb.predict(X_test)\n",
    "acc = accuracy_score(y_test, y_pred_mnb)\n",
    "print(acc)\n",
    "conf_matrix = confusion_matrix(y_test, y_pred_mnb)\n",
    "mat = ConfusionMatrixDisplay(conf_matrix, display_labels=['positive', 'negative'])\n",
    "mat.plot()"
   ]
  },
  {
   "cell_type": "code",
   "execution_count": 23,
   "metadata": {},
   "outputs": [],
   "source": [
    "from sklearn.svm import SVC\n",
    "# This Couldn't converge"
   ]
  },
  {
   "cell_type": "code",
   "execution_count": 24,
   "metadata": {},
   "outputs": [],
   "source": [
    "# vm = SVC(kernel = 'linear')\n",
    "# vm.fit(X_train, y_train)"
   ]
  },
  {
   "cell_type": "code",
   "execution_count": null,
   "metadata": {},
   "outputs": [],
   "source": [
    "# y_pred_vm = mnb.predict(X_test)\n",
    "# acc = accuracy_score(y_test, y_pred_vm)\n",
    "# print(acc)\n",
    "# conf_matrix = confusion_matrix(y_test, y_pred_mnb)\n",
    "# mat = ConfusionMatrixDisplay(conf_matrix, display_labels=['positive', 'negative'])\n",
    "# mat.plot()"
   ]
  },
  {
   "cell_type": "code",
   "execution_count": null,
   "metadata": {},
   "outputs": [],
   "source": [
    "# sys.path.append('../')\n",
    "# pickle.dump(xgb, open('../models/vm.pkl', 'wb'))"
   ]
  },
  {
   "cell_type": "code",
   "execution_count": 12,
   "metadata": {},
   "outputs": [],
   "source": [
    "# from xgboost import XGBClassifier"
   ]
  },
  {
   "cell_type": "code",
   "execution_count": 13,
   "metadata": {},
   "outputs": [],
   "source": [
    "# xgb = XGBClassifier()\n",
    "# xgb.fit(X_train, y_train)"
   ]
  },
  {
   "cell_type": "code",
   "execution_count": null,
   "metadata": {},
   "outputs": [],
   "source": [
    "# y_pred_xgb = xgb.predict(X_test)\n",
    "# accuracy_xgb = accuracy_score(y_test, y_pred_xgb)"
   ]
  },
  {
   "cell_type": "code",
   "execution_count": null,
   "metadata": {},
   "outputs": [],
   "source": [
    "# sys.path.append('../')\n",
    "# pickle.dump(xgb, open('../models/74-xgb.pkl', 'wb'))"
   ]
  },
  {
   "cell_type": "code",
   "execution_count": null,
   "metadata": {},
   "outputs": [],
   "source": []
  },
  {
   "cell_type": "markdown",
   "metadata": {},
   "source": [
    "From Built model"
   ]
  },
  {
   "cell_type": "code",
   "execution_count": 13,
   "metadata": {},
   "outputs": [],
   "source": [
    "loaded_model = pickle.load(open('../models/79_57_logreg_final.pkl', 'rb'))\n",
    "tf           = pickle.load(open('../models/tf_notebook.pkl', 'rb'))\n",
    "# result = loaded_model.score(X_test, Y_test)"
   ]
  },
  {
   "cell_type": "code",
   "execution_count": 91,
   "metadata": {},
   "outputs": [
    {
     "data": {
      "text/plain": [
       "528221             awwww kant make ill still ny glad your ok\n",
       "277471     wish localadlink work properli steubenvil ohio...\n",
       "1426728                                     tan beach hawaii\n",
       "1405638                                          look comput\n",
       "875697                     hi miley ok your amaz love r kiss\n",
       "                                 ...                        \n",
       "900627     hous sale go ok hope realli like daili paint t...\n",
       "1164330    accord jÃ¯ Â¿ Â½ rg kachelmann itll start rain...\n",
       "1554286    internet se cortÃ£ Â³ dejÃ£ Â³ de subirs el vi...\n",
       "1357859          drama like thing work plu wanna see perform\n",
       "1127331    watch hous listen mcmb still want salampvinega...\n",
       "Name: text, Length: 318631, dtype: object"
      ]
     },
     "execution_count": 91,
     "metadata": {},
     "output_type": "execute_result"
    }
   ],
   "source": [
    "X_test = df['text'].sample(frac=0.2, random_state=42)\n",
    "# X_test[8] = \"not good idea\"\n",
    "X_test"
   ]
  },
  {
   "cell_type": "code",
   "execution_count": 92,
   "metadata": {},
   "outputs": [
    {
     "data": {
      "text/plain": [
       "528221     0\n",
       "277471     0\n",
       "1426728    4\n",
       "1405638    4\n",
       "875697     4\n",
       "          ..\n",
       "900627     4\n",
       "1164330    4\n",
       "1554286    4\n",
       "1357859    4\n",
       "1127331    4\n",
       "Name: sentiment, Length: 318631, dtype: int64"
      ]
     },
     "execution_count": 92,
     "metadata": {},
     "output_type": "execute_result"
    }
   ],
   "source": [
    "X_test = tf.transform(X_test)\n",
    "y_test =df.sentiment.sample(frac=0.2, random_state=42)\n",
    "y_test"
   ]
  },
  {
   "cell_type": "code",
   "execution_count": 93,
   "metadata": {},
   "outputs": [
    {
     "data": {
      "text/plain": [
       "0.8264293179257511"
      ]
     },
     "execution_count": 93,
     "metadata": {},
     "output_type": "execute_result"
    }
   ],
   "source": [
    "y_pred_load = loaded_model.predict(X_test)\n",
    "y_pred_loaded = loaded_model.predict(X_test)\n",
    "acc = accuracy_score(y_test, y_pred_loaded)\n",
    "acc"
   ]
  },
  {
   "cell_type": "code",
   "execution_count": 94,
   "metadata": {},
   "outputs": [
    {
     "data": {
      "text/plain": [
       "array([0, 0, 4, ..., 4, 0, 4])"
      ]
     },
     "execution_count": 94,
     "metadata": {},
     "output_type": "execute_result"
    }
   ],
   "source": [
    "y_pred_load"
   ]
  }
 ],
 "metadata": {
  "kernelspec": {
   "display_name": "Python 3 (ipykernel)",
   "language": "python",
   "name": "python3"
  },
  "language_info": {
   "codemirror_mode": {
    "name": "ipython",
    "version": 3
   },
   "file_extension": ".py",
   "mimetype": "text/x-python",
   "name": "python",
   "nbconvert_exporter": "python",
   "pygments_lexer": "ipython3",
   "version": "3.9.12"
  },
  "vscode": {
   "interpreter": {
    "hash": "057f079fc3d051b446532bd70a4afd7f1511df77c1a1aec452212a8ba7c53c9f"
   }
  }
 },
 "nbformat": 4,
 "nbformat_minor": 2
}
